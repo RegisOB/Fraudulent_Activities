{
  "nbformat": 4,
  "nbformat_minor": 0,
  "metadata": {
    "colab": {
      "name": "Fraudulent_Activities.ipynb",
      "provenance": [],
      "collapsed_sections": []
    },
    "kernelspec": {
      "name": "python3",
      "display_name": "Python 3"
    }
  },
  "cells": [
    {
      "cell_type": "markdown",
      "metadata": {
        "id": "Dy1BBDATnXor",
        "colab_type": "text"
      },
      "source": [
        "# Importation librairies"
      ]
    },
    {
      "cell_type": "code",
      "metadata": {
        "id": "NoiHwr00mlcO",
        "colab_type": "code",
        "colab": {
          "base_uri": "https://localhost:8080/",
          "height": 71
        },
        "outputId": "5fe07cef-c8f7-4124-cfe9-ef56fab2dd0d"
      },
      "source": [
        "import pandas as pd\n",
        "import numpy as np\n",
        "import seaborn as sns\n",
        "import matplotlib.pyplot as plt\n",
        "from sklearn.preprocessing import StandardScaler\n",
        "from sklearn.model_selection import train_test_split\n",
        "from sklearn.linear_model import LogisticRegression\n",
        "from sklearn.metrics import confusion_matrix\n",
        "sns.set(style=\"whitegrid\")"
      ],
      "execution_count": 1,
      "outputs": [
        {
          "output_type": "stream",
          "text": [
            "/usr/local/lib/python3.6/dist-packages/statsmodels/tools/_testing.py:19: FutureWarning: pandas.util.testing is deprecated. Use the functions in the public API at pandas.testing instead.\n",
            "  import pandas.util.testing as tm\n"
          ],
          "name": "stderr"
        }
      ]
    },
    {
      "cell_type": "markdown",
      "metadata": {
        "id": "Gx_T8YZHoExY",
        "colab_type": "text"
      },
      "source": [
        "# Data importation"
      ]
    },
    {
      "cell_type": "code",
      "metadata": {
        "id": "iicHp4CYpk7i",
        "colab_type": "code",
        "colab": {
          "base_uri": "https://localhost:8080/",
          "height": 34
        },
        "outputId": "1fd485a5-6231-407b-edf0-c8ab94b3ba58"
      },
      "source": [
        "from google.colab import drive\n",
        "drive.mount('/content/drive')"
      ],
      "execution_count": 2,
      "outputs": [
        {
          "output_type": "stream",
          "text": [
            "Drive already mounted at /content/drive; to attempt to forcibly remount, call drive.mount(\"/content/drive\", force_remount=True).\n"
          ],
          "name": "stdout"
        }
      ]
    },
    {
      "cell_type": "code",
      "metadata": {
        "id": "rfcWlc6loDm2",
        "colab_type": "code",
        "colab": {}
      },
      "source": [
        "df_fraude = pd.read_csv(\"drive/My Drive/Datasets/Fraud_Data.csv\")\n",
        "df_Ipaddress = pd.read_csv(\"drive/My Drive/Datasets/IpAddress_to_Country.csv\")"
      ],
      "execution_count": 3,
      "outputs": []
    },
    {
      "cell_type": "markdown",
      "metadata": {
        "id": "GqIjHgNW8673",
        "colab_type": "text"
      },
      "source": [
        "# Data exploration"
      ]
    },
    {
      "cell_type": "code",
      "metadata": {
        "id": "eXPH4wEvq6P-",
        "colab_type": "code",
        "colab": {
          "base_uri": "https://localhost:8080/",
          "height": 306
        },
        "outputId": "ee425529-ed9a-4085-8d37-087e5d619d96"
      },
      "source": [
        "#Voir les dimensions\n",
        "print(df_fraude.shape) \n",
        "\n",
        "#Voir un sous echantillon des données\n",
        "df_fraude.head() "
      ],
      "execution_count": 4,
      "outputs": [
        {
          "output_type": "stream",
          "text": [
            "(151112, 11)\n"
          ],
          "name": "stdout"
        },
        {
          "output_type": "execute_result",
          "data": {
            "text/html": [
              "<div>\n",
              "<style scoped>\n",
              "    .dataframe tbody tr th:only-of-type {\n",
              "        vertical-align: middle;\n",
              "    }\n",
              "\n",
              "    .dataframe tbody tr th {\n",
              "        vertical-align: top;\n",
              "    }\n",
              "\n",
              "    .dataframe thead th {\n",
              "        text-align: right;\n",
              "    }\n",
              "</style>\n",
              "<table border=\"1\" class=\"dataframe\">\n",
              "  <thead>\n",
              "    <tr style=\"text-align: right;\">\n",
              "      <th></th>\n",
              "      <th>user_id</th>\n",
              "      <th>signup_time</th>\n",
              "      <th>purchase_time</th>\n",
              "      <th>purchase_value</th>\n",
              "      <th>device_id</th>\n",
              "      <th>source</th>\n",
              "      <th>browser</th>\n",
              "      <th>sex</th>\n",
              "      <th>age</th>\n",
              "      <th>ip_address</th>\n",
              "      <th>class</th>\n",
              "    </tr>\n",
              "  </thead>\n",
              "  <tbody>\n",
              "    <tr>\n",
              "      <th>0</th>\n",
              "      <td>22058</td>\n",
              "      <td>2015-02-24 22:55:49</td>\n",
              "      <td>2015-04-18 02:47:11</td>\n",
              "      <td>34</td>\n",
              "      <td>QVPSPJUOCKZAR</td>\n",
              "      <td>SEO</td>\n",
              "      <td>Chrome</td>\n",
              "      <td>M</td>\n",
              "      <td>39</td>\n",
              "      <td>7.327584e+08</td>\n",
              "      <td>0</td>\n",
              "    </tr>\n",
              "    <tr>\n",
              "      <th>1</th>\n",
              "      <td>333320</td>\n",
              "      <td>2015-06-07 20:39:50</td>\n",
              "      <td>2015-06-08 01:38:54</td>\n",
              "      <td>16</td>\n",
              "      <td>EOGFQPIZPYXFZ</td>\n",
              "      <td>Ads</td>\n",
              "      <td>Chrome</td>\n",
              "      <td>F</td>\n",
              "      <td>53</td>\n",
              "      <td>3.503114e+08</td>\n",
              "      <td>0</td>\n",
              "    </tr>\n",
              "    <tr>\n",
              "      <th>2</th>\n",
              "      <td>1359</td>\n",
              "      <td>2015-01-01 18:52:44</td>\n",
              "      <td>2015-01-01 18:52:45</td>\n",
              "      <td>15</td>\n",
              "      <td>YSSKYOSJHPPLJ</td>\n",
              "      <td>SEO</td>\n",
              "      <td>Opera</td>\n",
              "      <td>M</td>\n",
              "      <td>53</td>\n",
              "      <td>2.621474e+09</td>\n",
              "      <td>1</td>\n",
              "    </tr>\n",
              "    <tr>\n",
              "      <th>3</th>\n",
              "      <td>150084</td>\n",
              "      <td>2015-04-28 21:13:25</td>\n",
              "      <td>2015-05-04 13:54:50</td>\n",
              "      <td>44</td>\n",
              "      <td>ATGTXKYKUDUQN</td>\n",
              "      <td>SEO</td>\n",
              "      <td>Safari</td>\n",
              "      <td>M</td>\n",
              "      <td>41</td>\n",
              "      <td>3.840542e+09</td>\n",
              "      <td>0</td>\n",
              "    </tr>\n",
              "    <tr>\n",
              "      <th>4</th>\n",
              "      <td>221365</td>\n",
              "      <td>2015-07-21 07:09:52</td>\n",
              "      <td>2015-09-09 18:40:53</td>\n",
              "      <td>39</td>\n",
              "      <td>NAUITBZFJKHWW</td>\n",
              "      <td>Ads</td>\n",
              "      <td>Safari</td>\n",
              "      <td>M</td>\n",
              "      <td>45</td>\n",
              "      <td>4.155831e+08</td>\n",
              "      <td>0</td>\n",
              "    </tr>\n",
              "  </tbody>\n",
              "</table>\n",
              "</div>"
            ],
            "text/plain": [
              "   user_id          signup_time        purchase_time  ...  age    ip_address class\n",
              "0    22058  2015-02-24 22:55:49  2015-04-18 02:47:11  ...   39  7.327584e+08     0\n",
              "1   333320  2015-06-07 20:39:50  2015-06-08 01:38:54  ...   53  3.503114e+08     0\n",
              "2     1359  2015-01-01 18:52:44  2015-01-01 18:52:45  ...   53  2.621474e+09     1\n",
              "3   150084  2015-04-28 21:13:25  2015-05-04 13:54:50  ...   41  3.840542e+09     0\n",
              "4   221365  2015-07-21 07:09:52  2015-09-09 18:40:53  ...   45  4.155831e+08     0\n",
              "\n",
              "[5 rows x 11 columns]"
            ]
          },
          "metadata": {
            "tags": []
          },
          "execution_count": 4
        }
      ]
    },
    {
      "cell_type": "code",
      "metadata": {
        "id": "C9XT6Cqs9UUI",
        "colab_type": "code",
        "colab": {
          "base_uri": "https://localhost:8080/",
          "height": 323
        },
        "outputId": "67319f04-eb39-4611-d6f4-f0be4961297c"
      },
      "source": [
        "#Les informations sur les meta données\n",
        "df_fraude.info()"
      ],
      "execution_count": 5,
      "outputs": [
        {
          "output_type": "stream",
          "text": [
            "<class 'pandas.core.frame.DataFrame'>\n",
            "RangeIndex: 151112 entries, 0 to 151111\n",
            "Data columns (total 11 columns):\n",
            " #   Column          Non-Null Count   Dtype  \n",
            "---  ------          --------------   -----  \n",
            " 0   user_id         151112 non-null  int64  \n",
            " 1   signup_time     151112 non-null  object \n",
            " 2   purchase_time   151112 non-null  object \n",
            " 3   purchase_value  151112 non-null  int64  \n",
            " 4   device_id       151112 non-null  object \n",
            " 5   source          151112 non-null  object \n",
            " 6   browser         151112 non-null  object \n",
            " 7   sex             151112 non-null  object \n",
            " 8   age             151112 non-null  int64  \n",
            " 9   ip_address      151112 non-null  float64\n",
            " 10  class           151112 non-null  int64  \n",
            "dtypes: float64(1), int64(4), object(6)\n",
            "memory usage: 12.7+ MB\n"
          ],
          "name": "stdout"
        }
      ]
    },
    {
      "cell_type": "code",
      "metadata": {
        "id": "GeWCxhrX-Ff_",
        "colab_type": "code",
        "colab": {
          "base_uri": "https://localhost:8080/",
          "height": 153
        },
        "outputId": "3ec49d1b-12ef-4e5d-cb83-5d586917d6e5"
      },
      "source": [
        "#Les ID dupliquees\n",
        "print(\"ID users\")\n",
        "print(df_fraude['user_id'].unique())\n",
        "print(len(df_fraude['user_id'].unique()))\n",
        "\n",
        "print(\" \")\n",
        "print(\"ID device\")\n",
        "print(df_fraude['device_id'].unique())\n",
        "print(len(df_fraude['device_id'].unique())) ##Il semble il y avoir les doublons avec les devices"
      ],
      "execution_count": 6,
      "outputs": [
        {
          "output_type": "stream",
          "text": [
            "ID users\n",
            "[ 22058 333320   1359 ... 368416 207709 138208]\n",
            "151112\n",
            " \n",
            "ID device\n",
            "['QVPSPJUOCKZAR' 'EOGFQPIZPYXFZ' 'YSSKYOSJHPPLJ' ... 'LYSFABUCPCGBA'\n",
            " 'MEQHCSJUBRBFE' 'ZINIADFCLHYPG']\n",
            "137956\n"
          ],
          "name": "stdout"
        }
      ]
    },
    {
      "cell_type": "code",
      "metadata": {
        "id": "RvbOZyTrAYTQ",
        "colab_type": "code",
        "colab": {
          "base_uri": "https://localhost:8080/",
          "height": 221
        },
        "outputId": "f895fa4a-efc9-43bb-f184-4ae03bb5e584"
      },
      "source": [
        "#Voir ID device doublons\n",
        "df_fraude['device_id'].value_counts()"
      ],
      "execution_count": 7,
      "outputs": [
        {
          "output_type": "execute_result",
          "data": {
            "text/plain": [
              "KIPFSCNUGOLDP    20\n",
              "ITUMJCKWEYNDD    20\n",
              "EQYVNEGOFLAWK    20\n",
              "CQTUVBYIWWWBC    20\n",
              "ZUSVMDEZRBDTX    20\n",
              "                 ..\n",
              "ENDTWSVBTOZYP     1\n",
              "HQWWPVZGMZPUZ     1\n",
              "CTNVLBXZEMUKY     1\n",
              "ITAOJPXCRUSAE     1\n",
              "VGBLFCEZSRUEQ     1\n",
              "Name: device_id, Length: 137956, dtype: int64"
            ]
          },
          "metadata": {
            "tags": []
          },
          "execution_count": 7
        }
      ]
    },
    {
      "cell_type": "code",
      "metadata": {
        "id": "e2JHh8H0qIr4",
        "colab_type": "code",
        "colab": {
          "base_uri": "https://localhost:8080/",
          "height": 221
        },
        "outputId": "a4b347c9-a4a1-4ef7-d662-34ef69535948"
      },
      "source": [
        "print(df_Ipaddress.shape) #Voir les dimensions\n",
        "df_Ipaddress.head() #Voir un sous echantillon des données"
      ],
      "execution_count": 8,
      "outputs": [
        {
          "output_type": "stream",
          "text": [
            "(138846, 3)\n"
          ],
          "name": "stdout"
        },
        {
          "output_type": "execute_result",
          "data": {
            "text/html": [
              "<div>\n",
              "<style scoped>\n",
              "    .dataframe tbody tr th:only-of-type {\n",
              "        vertical-align: middle;\n",
              "    }\n",
              "\n",
              "    .dataframe tbody tr th {\n",
              "        vertical-align: top;\n",
              "    }\n",
              "\n",
              "    .dataframe thead th {\n",
              "        text-align: right;\n",
              "    }\n",
              "</style>\n",
              "<table border=\"1\" class=\"dataframe\">\n",
              "  <thead>\n",
              "    <tr style=\"text-align: right;\">\n",
              "      <th></th>\n",
              "      <th>lower_bound_ip_address</th>\n",
              "      <th>upper_bound_ip_address</th>\n",
              "      <th>country</th>\n",
              "    </tr>\n",
              "  </thead>\n",
              "  <tbody>\n",
              "    <tr>\n",
              "      <th>0</th>\n",
              "      <td>16777216.0</td>\n",
              "      <td>16777471</td>\n",
              "      <td>Australia</td>\n",
              "    </tr>\n",
              "    <tr>\n",
              "      <th>1</th>\n",
              "      <td>16777472.0</td>\n",
              "      <td>16777727</td>\n",
              "      <td>China</td>\n",
              "    </tr>\n",
              "    <tr>\n",
              "      <th>2</th>\n",
              "      <td>16777728.0</td>\n",
              "      <td>16778239</td>\n",
              "      <td>China</td>\n",
              "    </tr>\n",
              "    <tr>\n",
              "      <th>3</th>\n",
              "      <td>16778240.0</td>\n",
              "      <td>16779263</td>\n",
              "      <td>Australia</td>\n",
              "    </tr>\n",
              "    <tr>\n",
              "      <th>4</th>\n",
              "      <td>16779264.0</td>\n",
              "      <td>16781311</td>\n",
              "      <td>China</td>\n",
              "    </tr>\n",
              "  </tbody>\n",
              "</table>\n",
              "</div>"
            ],
            "text/plain": [
              "   lower_bound_ip_address  upper_bound_ip_address    country\n",
              "0              16777216.0                16777471  Australia\n",
              "1              16777472.0                16777727      China\n",
              "2              16777728.0                16778239      China\n",
              "3              16778240.0                16779263  Australia\n",
              "4              16779264.0                16781311      China"
            ]
          },
          "metadata": {
            "tags": []
          },
          "execution_count": 8
        }
      ]
    },
    {
      "cell_type": "code",
      "metadata": {
        "id": "d2T2y2JYw63U",
        "colab_type": "code",
        "colab": {}
      },
      "source": [
        "###Fusionner les deux dataframes\n",
        "def get_country(ip, ip_country_dataset):\n",
        "    \"\"\"\n",
        "    Return the name of the country based on the ip address\n",
        "    \"\"\"\n",
        "    try:\n",
        "        country = ip_country_dataset[\n",
        "            (ip >= ip_country_dataset.lower_bound_ip_address) & (ip <= ip_country_dataset.upper_bound_ip_address)\n",
        "        ][\"country\"].iloc[0]\n",
        "    except:\n",
        "        return \"unknown\"\n",
        "    else:\n",
        "        return country\n",
        "\n",
        "df_fraude[\"country\"] = df_fraude[\"ip_address\"]\n",
        "df_fraude[\"country\"] = df_fraude[\"country\"].apply(get_country, args=(df_Ipaddress,))"
      ],
      "execution_count": 9,
      "outputs": []
    },
    {
      "cell_type": "code",
      "metadata": {
        "id": "hXFfmg3V2Iby",
        "colab_type": "code",
        "colab": {
          "base_uri": "https://localhost:8080/",
          "height": 289
        },
        "outputId": "7d053c72-d885-460d-97c5-7910757af20b"
      },
      "source": [
        "df_fraude.head()"
      ],
      "execution_count": 10,
      "outputs": [
        {
          "output_type": "execute_result",
          "data": {
            "text/html": [
              "<div>\n",
              "<style scoped>\n",
              "    .dataframe tbody tr th:only-of-type {\n",
              "        vertical-align: middle;\n",
              "    }\n",
              "\n",
              "    .dataframe tbody tr th {\n",
              "        vertical-align: top;\n",
              "    }\n",
              "\n",
              "    .dataframe thead th {\n",
              "        text-align: right;\n",
              "    }\n",
              "</style>\n",
              "<table border=\"1\" class=\"dataframe\">\n",
              "  <thead>\n",
              "    <tr style=\"text-align: right;\">\n",
              "      <th></th>\n",
              "      <th>user_id</th>\n",
              "      <th>signup_time</th>\n",
              "      <th>purchase_time</th>\n",
              "      <th>purchase_value</th>\n",
              "      <th>device_id</th>\n",
              "      <th>source</th>\n",
              "      <th>browser</th>\n",
              "      <th>sex</th>\n",
              "      <th>age</th>\n",
              "      <th>ip_address</th>\n",
              "      <th>class</th>\n",
              "      <th>country</th>\n",
              "    </tr>\n",
              "  </thead>\n",
              "  <tbody>\n",
              "    <tr>\n",
              "      <th>0</th>\n",
              "      <td>22058</td>\n",
              "      <td>2015-02-24 22:55:49</td>\n",
              "      <td>2015-04-18 02:47:11</td>\n",
              "      <td>34</td>\n",
              "      <td>QVPSPJUOCKZAR</td>\n",
              "      <td>SEO</td>\n",
              "      <td>Chrome</td>\n",
              "      <td>M</td>\n",
              "      <td>39</td>\n",
              "      <td>7.327584e+08</td>\n",
              "      <td>0</td>\n",
              "      <td>Japan</td>\n",
              "    </tr>\n",
              "    <tr>\n",
              "      <th>1</th>\n",
              "      <td>333320</td>\n",
              "      <td>2015-06-07 20:39:50</td>\n",
              "      <td>2015-06-08 01:38:54</td>\n",
              "      <td>16</td>\n",
              "      <td>EOGFQPIZPYXFZ</td>\n",
              "      <td>Ads</td>\n",
              "      <td>Chrome</td>\n",
              "      <td>F</td>\n",
              "      <td>53</td>\n",
              "      <td>3.503114e+08</td>\n",
              "      <td>0</td>\n",
              "      <td>United States</td>\n",
              "    </tr>\n",
              "    <tr>\n",
              "      <th>2</th>\n",
              "      <td>1359</td>\n",
              "      <td>2015-01-01 18:52:44</td>\n",
              "      <td>2015-01-01 18:52:45</td>\n",
              "      <td>15</td>\n",
              "      <td>YSSKYOSJHPPLJ</td>\n",
              "      <td>SEO</td>\n",
              "      <td>Opera</td>\n",
              "      <td>M</td>\n",
              "      <td>53</td>\n",
              "      <td>2.621474e+09</td>\n",
              "      <td>1</td>\n",
              "      <td>United States</td>\n",
              "    </tr>\n",
              "    <tr>\n",
              "      <th>3</th>\n",
              "      <td>150084</td>\n",
              "      <td>2015-04-28 21:13:25</td>\n",
              "      <td>2015-05-04 13:54:50</td>\n",
              "      <td>44</td>\n",
              "      <td>ATGTXKYKUDUQN</td>\n",
              "      <td>SEO</td>\n",
              "      <td>Safari</td>\n",
              "      <td>M</td>\n",
              "      <td>41</td>\n",
              "      <td>3.840542e+09</td>\n",
              "      <td>0</td>\n",
              "      <td>unknown</td>\n",
              "    </tr>\n",
              "    <tr>\n",
              "      <th>4</th>\n",
              "      <td>221365</td>\n",
              "      <td>2015-07-21 07:09:52</td>\n",
              "      <td>2015-09-09 18:40:53</td>\n",
              "      <td>39</td>\n",
              "      <td>NAUITBZFJKHWW</td>\n",
              "      <td>Ads</td>\n",
              "      <td>Safari</td>\n",
              "      <td>M</td>\n",
              "      <td>45</td>\n",
              "      <td>4.155831e+08</td>\n",
              "      <td>0</td>\n",
              "      <td>United States</td>\n",
              "    </tr>\n",
              "  </tbody>\n",
              "</table>\n",
              "</div>"
            ],
            "text/plain": [
              "   user_id          signup_time  ... class        country\n",
              "0    22058  2015-02-24 22:55:49  ...     0          Japan\n",
              "1   333320  2015-06-07 20:39:50  ...     0  United States\n",
              "2     1359  2015-01-01 18:52:44  ...     1  United States\n",
              "3   150084  2015-04-28 21:13:25  ...     0        unknown\n",
              "4   221365  2015-07-21 07:09:52  ...     0  United States\n",
              "\n",
              "[5 rows x 12 columns]"
            ]
          },
          "metadata": {
            "tags": []
          },
          "execution_count": 10
        }
      ]
    },
    {
      "cell_type": "markdown",
      "metadata": {
        "id": "xARPBj5Z55hO",
        "colab_type": "text"
      },
      "source": [
        "# Univariate analysis"
      ]
    },
    {
      "cell_type": "markdown",
      "metadata": {
        "id": "sWq_LDT7p5F2",
        "colab_type": "text"
      },
      "source": [
        "### Variables quantitatives"
      ]
    },
    {
      "cell_type": "code",
      "metadata": {
        "id": "84zU2U0NDg1J",
        "colab_type": "code",
        "colab": {
          "base_uri": "https://localhost:8080/",
          "height": 297
        },
        "outputId": "4dacdce6-6064-4275-8fe6-034126872025"
      },
      "source": [
        "##Statistiques descriptives\n",
        "df_fraude[['age', 'purchase_value']].describe()"
      ],
      "execution_count": 11,
      "outputs": [
        {
          "output_type": "execute_result",
          "data": {
            "text/html": [
              "<div>\n",
              "<style scoped>\n",
              "    .dataframe tbody tr th:only-of-type {\n",
              "        vertical-align: middle;\n",
              "    }\n",
              "\n",
              "    .dataframe tbody tr th {\n",
              "        vertical-align: top;\n",
              "    }\n",
              "\n",
              "    .dataframe thead th {\n",
              "        text-align: right;\n",
              "    }\n",
              "</style>\n",
              "<table border=\"1\" class=\"dataframe\">\n",
              "  <thead>\n",
              "    <tr style=\"text-align: right;\">\n",
              "      <th></th>\n",
              "      <th>age</th>\n",
              "      <th>purchase_value</th>\n",
              "    </tr>\n",
              "  </thead>\n",
              "  <tbody>\n",
              "    <tr>\n",
              "      <th>count</th>\n",
              "      <td>151112.000000</td>\n",
              "      <td>151112.000000</td>\n",
              "    </tr>\n",
              "    <tr>\n",
              "      <th>mean</th>\n",
              "      <td>33.140704</td>\n",
              "      <td>36.935372</td>\n",
              "    </tr>\n",
              "    <tr>\n",
              "      <th>std</th>\n",
              "      <td>8.617733</td>\n",
              "      <td>18.322762</td>\n",
              "    </tr>\n",
              "    <tr>\n",
              "      <th>min</th>\n",
              "      <td>18.000000</td>\n",
              "      <td>9.000000</td>\n",
              "    </tr>\n",
              "    <tr>\n",
              "      <th>25%</th>\n",
              "      <td>27.000000</td>\n",
              "      <td>22.000000</td>\n",
              "    </tr>\n",
              "    <tr>\n",
              "      <th>50%</th>\n",
              "      <td>33.000000</td>\n",
              "      <td>35.000000</td>\n",
              "    </tr>\n",
              "    <tr>\n",
              "      <th>75%</th>\n",
              "      <td>39.000000</td>\n",
              "      <td>49.000000</td>\n",
              "    </tr>\n",
              "    <tr>\n",
              "      <th>max</th>\n",
              "      <td>76.000000</td>\n",
              "      <td>154.000000</td>\n",
              "    </tr>\n",
              "  </tbody>\n",
              "</table>\n",
              "</div>"
            ],
            "text/plain": [
              "                 age  purchase_value\n",
              "count  151112.000000   151112.000000\n",
              "mean       33.140704       36.935372\n",
              "std         8.617733       18.322762\n",
              "min        18.000000        9.000000\n",
              "25%        27.000000       22.000000\n",
              "50%        33.000000       35.000000\n",
              "75%        39.000000       49.000000\n",
              "max        76.000000      154.000000"
            ]
          },
          "metadata": {
            "tags": []
          },
          "execution_count": 11
        }
      ]
    },
    {
      "cell_type": "code",
      "metadata": {
        "id": "BZnXO1Jr29Fw",
        "colab_type": "code",
        "colab": {
          "base_uri": "https://localhost:8080/",
          "height": 394
        },
        "outputId": "73725f3d-be66-4a0a-c01d-640333061bed"
      },
      "source": [
        "##Histogramme et boxplot Age\n",
        "plt.figure(figsize=(15, 6))\n",
        "\n",
        "plt.subplot(121)\n",
        "sns.distplot(df_fraude.age)\n",
        "\n",
        "plt.subplot(122)\n",
        "sns.boxplot(df_fraude.age)\n",
        "\n",
        "plt.show()"
      ],
      "execution_count": 12,
      "outputs": [
        {
          "output_type": "display_data",
          "data": {
            "image/png": "[encoded data removed]",
            "text/plain": [
              "<Figure size 1080x432 with 2 Axes>"
            ]
          },
          "metadata": {
            "tags": [],
            "needs_background": "light"
          }
        }
      ]
    },
    {
      "cell_type": "code",
      "metadata": {
        "id": "jYRGmPOnCIxP",
        "colab_type": "code",
        "colab": {
          "base_uri": "https://localhost:8080/",
          "height": 394
        },
        "outputId": "c0be2680-0aca-416f-fd0d-e2c339798a6a"
      },
      "source": [
        "##Histogramme et boxplot purchase_value\n",
        "plt.figure(figsize=(15, 6))\n",
        "\n",
        "plt.subplot(121)\n",
        "sns.distplot(df_fraude.purchase_value)\n",
        "\n",
        "plt.subplot(122)\n",
        "sns.boxplot(df_fraude.purchase_value)\n",
        "\n",
        "plt.show()"
      ],
      "execution_count": 13,
      "outputs": [
        {
          "output_type": "display_data",
          "data": {
            "image/png": "[encoded data removed]",
            "text/plain": [
              "<Figure size 1080x432 with 2 Axes>"
            ]
          },
          "metadata": {
            "tags": [],
            "needs_background": "light"
          }
        }
      ]
    },
    {
      "cell_type": "markdown",
      "metadata": {
        "id": "faO0ZTuiqCpc",
        "colab_type": "text"
      },
      "source": [
        "## Variables qualitatives"
      ]
    },
    {
      "cell_type": "code",
      "metadata": {
        "id": "DDq4GRUEqje6",
        "colab_type": "code",
        "colab": {
          "base_uri": "https://localhost:8080/",
          "height": 213
        },
        "outputId": "a9d88f9a-b388-497e-9650-4f0822ec80e3"
      },
      "source": [
        "print(df_fraude.columns)\n",
        "df_fraude.head(2)"
      ],
      "execution_count": 14,
      "outputs": [
        {
          "output_type": "stream",
          "text": [
            "Index(['user_id', 'signup_time', 'purchase_time', 'purchase_value',\n",
            "       'device_id', 'source', 'browser', 'sex', 'age', 'ip_address', 'class',\n",
            "       'country'],\n",
            "      dtype='object')\n"
          ],
          "name": "stdout"
        },
        {
          "output_type": "execute_result",
          "data": {
            "text/html": [
              "<div>\n",
              "<style scoped>\n",
              "    .dataframe tbody tr th:only-of-type {\n",
              "        vertical-align: middle;\n",
              "    }\n",
              "\n",
              "    .dataframe tbody tr th {\n",
              "        vertical-align: top;\n",
              "    }\n",
              "\n",
              "    .dataframe thead th {\n",
              "        text-align: right;\n",
              "    }\n",
              "</style>\n",
              "<table border=\"1\" class=\"dataframe\">\n",
              "  <thead>\n",
              "    <tr style=\"text-align: right;\">\n",
              "      <th></th>\n",
              "      <th>user_id</th>\n",
              "      <th>signup_time</th>\n",
              "      <th>purchase_time</th>\n",
              "      <th>purchase_value</th>\n",
              "      <th>device_id</th>\n",
              "      <th>source</th>\n",
              "      <th>browser</th>\n",
              "      <th>sex</th>\n",
              "      <th>age</th>\n",
              "      <th>ip_address</th>\n",
              "      <th>class</th>\n",
              "      <th>country</th>\n",
              "    </tr>\n",
              "  </thead>\n",
              "  <tbody>\n",
              "    <tr>\n",
              "      <th>0</th>\n",
              "      <td>22058</td>\n",
              "      <td>2015-02-24 22:55:49</td>\n",
              "      <td>2015-04-18 02:47:11</td>\n",
              "      <td>34</td>\n",
              "      <td>QVPSPJUOCKZAR</td>\n",
              "      <td>SEO</td>\n",
              "      <td>Chrome</td>\n",
              "      <td>M</td>\n",
              "      <td>39</td>\n",
              "      <td>7.327584e+08</td>\n",
              "      <td>0</td>\n",
              "      <td>Japan</td>\n",
              "    </tr>\n",
              "    <tr>\n",
              "      <th>1</th>\n",
              "      <td>333320</td>\n",
              "      <td>2015-06-07 20:39:50</td>\n",
              "      <td>2015-06-08 01:38:54</td>\n",
              "      <td>16</td>\n",
              "      <td>EOGFQPIZPYXFZ</td>\n",
              "      <td>Ads</td>\n",
              "      <td>Chrome</td>\n",
              "      <td>F</td>\n",
              "      <td>53</td>\n",
              "      <td>3.503114e+08</td>\n",
              "      <td>0</td>\n",
              "      <td>United States</td>\n",
              "    </tr>\n",
              "  </tbody>\n",
              "</table>\n",
              "</div>"
            ],
            "text/plain": [
              "   user_id          signup_time  ... class        country\n",
              "0    22058  2015-02-24 22:55:49  ...     0          Japan\n",
              "1   333320  2015-06-07 20:39:50  ...     0  United States\n",
              "\n",
              "[2 rows x 12 columns]"
            ]
          },
          "metadata": {
            "tags": []
          },
          "execution_count": 14
        }
      ]
    },
    {
      "cell_type": "code",
      "metadata": {
        "id": "3GK5Bcma7Snm",
        "colab_type": "code",
        "colab": {}
      },
      "source": [
        "##Barplots pour source, sexe,  class, browser, country\n",
        "var_cat1 = ['source', 'sex',  'class', 'browser', 'country']\n",
        "\n",
        "##Voir Tableau des frequences\n",
        "tab1 = pd.DataFrame(np.round(100*df_fraude['source'].value_counts(normalize = True), 0))\n",
        "print(tab1)\n",
        "print(\"\")\n",
        "tab2 = pd.DataFrame(np.round(100*df_fraude['sex'].value_counts(normalize = True), 0))\n",
        "print(tab2)\n",
        "print(\"\")\n",
        "tab3 = pd.DataFrame(np.round(100*df_fraude['class'].value_counts(normalize = True), 0))\n",
        "print(tab3)\n",
        "print(\"\")\n",
        "tab4 = pd.DataFrame(np.round(100*df_fraude['browser'].value_counts(normalize = True), 0))\n",
        "print(tab4)\n",
        "print(\"\")\n",
        "tab5 = pd.DataFrame(np.round(100*df_fraude['country'].value_counts(normalize = True), 0))\n",
        "print(tab5)"
      ],
      "execution_count": null,
      "outputs": []
    },
    {
      "cell_type": "code",
      "metadata": {
        "id": "gqaKkYHWq4uQ",
        "colab_type": "code",
        "colab": {
          "base_uri": "https://localhost:8080/",
          "height": 523
        },
        "outputId": "5deb78d8-9fae-4eb2-d942-e158929bea2f"
      },
      "source": [
        "plt.figure(figsize=(8, 8))\n",
        "ax = sns.barplot(x = tab1.index, y = tab1.source, palette=\"Blues_d\")\n",
        "ax.set_ylim(0, 100)\n",
        "ax.set_ylabel('(%)')\n",
        "ax.set_xlabel('Source')"
      ],
      "execution_count": 33,
      "outputs": [
        {
          "output_type": "execute_result",
          "data": {
            "text/plain": [
              "Text(0.5, 0, 'Source')"
            ]
          },
          "metadata": {
            "tags": []
          },
          "execution_count": 33
        },
        {
          "output_type": "display_data",
          "data": {
            "image/png": "[encoded data removed]",
            "text/plain": [
              "<Figure size 576x576 with 1 Axes>"
            ]
          },
          "metadata": {
            "tags": [],
            "needs_background": "light"
          }
        }
      ]
    },
    {
      "cell_type": "code",
      "metadata": {
        "colab_type": "code",
        "id": "iRS3MPRrtdBQ",
        "colab": {
          "base_uri": "https://localhost:8080/",
          "height": 523
        },
        "outputId": "00036989-a2f3-420a-f765-5731c70cc170"
      },
      "source": [
        "plt.figure(figsize=(8, 8))\n",
        "ax = sns.barplot(x = tab2.index, y = tab2.sex, palette=\"Blues_d\")\n",
        "ax.set_ylim(0, 100)\n",
        "ax.set_ylabel('(%)')\n",
        "ax.set_xlabel('Sexe')"
      ],
      "execution_count": 35,
      "outputs": [
        {
          "output_type": "execute_result",
          "data": {
            "text/plain": [
              "Text(0.5, 0, 'Sexe')"
            ]
          },
          "metadata": {
            "tags": []
          },
          "execution_count": 35
        },
        {
          "output_type": "display_data",
          "data": {
            "image/png": "[encoded data removed]",
            "text/plain": [
              "<Figure size 576x576 with 1 Axes>"
            ]
          },
          "metadata": {
            "tags": [],
            "needs_background": "light"
          }
        }
      ]
    },
    {
      "cell_type": "code",
      "metadata": {
        "colab_type": "code",
        "id": "4IOHm56btyWR",
        "colab": {
          "base_uri": "https://localhost:8080/",
          "height": 523
        },
        "outputId": "98fae89a-6217-4260-bc99-187776666814"
      },
      "source": [
        "plt.figure(figsize=(8, 8))\n",
        "ax = sns.barplot(x = tab3.index, y = tab3['class'], palette=\"Blues_d\")\n",
        "ax.set_ylim(0, 100)\n",
        "ax.set_ylabel('(%)')\n",
        "ax.set_xlabel('Activité Frauduleuse')"
      ],
      "execution_count": 38,
      "outputs": [
        {
          "output_type": "execute_result",
          "data": {
            "text/plain": [
              "Text(0.5, 0, 'Activité Frauduleuse')"
            ]
          },
          "metadata": {
            "tags": []
          },
          "execution_count": 38
        },
        {
          "output_type": "display_data",
          "data": {
            "image/png": "[encoded data removed]",
            "text/plain": [
              "<Figure size 576x576 with 1 Axes>"
            ]
          },
          "metadata": {
            "tags": [],
            "needs_background": "light"
          }
        }
      ]
    },
    {
      "cell_type": "code",
      "metadata": {
        "colab_type": "code",
        "id": "oUmKnkbfuppV",
        "colab": {
          "base_uri": "https://localhost:8080/",
          "height": 523
        },
        "outputId": "ddfbbe36-82f8-4f8e-e0d5-18e8c7fcd5b8"
      },
      "source": [
        "plt.figure(figsize=(8, 8))\n",
        "ax = sns.barplot(x = tab4.index, y = tab4.browser, palette=\"Blues_d\")\n",
        "ax.set_ylim(0, 100)\n",
        "ax.set_ylabel('(%)')\n",
        "ax.set_xlabel('Navigateur internet')"
      ],
      "execution_count": 40,
      "outputs": [
        {
          "output_type": "execute_result",
          "data": {
            "text/plain": [
              "Text(0.5, 0, 'Navigateur internet')"
            ]
          },
          "metadata": {
            "tags": []
          },
          "execution_count": 40
        },
        {
          "output_type": "display_data",
          "data": {
            "image/png": "[encoded data removed]",
            "text/plain": [
              "<Figure size 576x576 with 1 Axes>"
            ]
          },
          "metadata": {
            "tags": [],
            "needs_background": "light"
          }
        }
      ]
    },
    {
      "cell_type": "code",
      "metadata": {
        "colab_type": "code",
        "id": "KxVQHfevu9uY",
        "colab": {}
      },
      "source": [
        "plt.figure(figsize=(20, 8))\n",
        "ax = sns.barplot(x = tab5.index, y = tab5.country, palette=\"Blues_d\")\n",
        "ax.set_ylim(0, 100)\n",
        "ax.set_ylabel('(%)')\n",
        "ax.set_xlabel('Pays')\n",
        "ax.set_xticklabels(labels = ax.get_xticklabels(), rotation = 90)"
      ],
      "execution_count": null,
      "outputs": []
    },
    {
      "cell_type": "code",
      "metadata": {
        "colab_type": "code",
        "id": "9jwFI9oC8wjL",
        "colab": {}
      },
      "source": [
        "tab5a = pd.DataFrame(np.round(100*df_fraude['country'].value_counts(), 0))\n",
        "tab5e = pd.concat([tab5a, tab5], axis = 1)\n",
        "tab5e.to_excel(\"Mapping_country1.xlsx\")"
      ],
      "execution_count": 77,
      "outputs": []
    },
    {
      "cell_type": "code",
      "metadata": {
        "id": "FG1b3x_OH8gN",
        "colab_type": "code",
        "colab": {}
      },
      "source": [
        "##Masque pour créer un groupe de pays avec une proportion < 1%\n",
        "name_country = tab5[tab5.country >= 1].index #Nom des pays avec proportion >1%\n",
        "\n",
        "mask5 = ~df_fraude['country'].isin(name_country)\n",
        "\n",
        "df_fraude['country_mod'] = df_fraude['country'].mask(mask5, 'Others Countries')"
      ],
      "execution_count": 57,
      "outputs": []
    },
    {
      "cell_type": "code",
      "metadata": {
        "id": "B-lLCy_aIiqb",
        "colab_type": "code",
        "colab": {}
      },
      "source": [
        "tab5b = pd.DataFrame(np.round(100*df_fraude['country_mod'].value_counts(normalize = True), 0))"
      ],
      "execution_count": 69,
      "outputs": []
    },
    {
      "cell_type": "code",
      "metadata": {
        "colab_type": "code",
        "id": "VmMeeuWL05Dm",
        "colab": {}
      },
      "source": [
        "tab5c = pd.DataFrame(np.round(100*df_fraude['country_mod'].value_counts(), 0))\n",
        "tab5d = pd.concat([tab5c, tab5b], axis = 1)\n",
        "tab5d.to_excel(\"Mapping_country.xlsx\") #Exporter le fichier pour une visualisation cartographie avec Tableau"
      ],
      "execution_count": 76,
      "outputs": []
    },
    {
      "cell_type": "code",
      "metadata": {
        "id": "o4hNGUIK0GX_",
        "colab_type": "code",
        "colab": {
          "base_uri": "https://localhost:8080/",
          "height": 948
        },
        "outputId": "3d9808a9-a5a7-4d5f-bedc-066d7339fe71"
      },
      "source": [
        "plt.figure(figsize=(20, 8))\n",
        "ax = sns.barplot(x = tab5b.index, y = tab5b.country_mod, palette=\"Blues_d\")\n",
        "ax.set_ylim(0, 100)\n",
        "ax.set_ylabel('(%)')\n",
        "ax.set_xlabel('Pays')\n",
        "ax.set_xticklabels(labels = ax.get_xticklabels(), rotation = 90)"
      ],
      "execution_count": 68,
      "outputs": [
        {
          "output_type": "execute_result",
          "data": {
            "text/plain": [
              "[Text(0, 0, 'United States'),\n",
              " Text(0, 0, 'unknown'),\n",
              " Text(0, 0, 'Others Countries'),\n",
              " Text(0, 0, 'China'),\n",
              " Text(0, 0, 'Japan'),\n",
              " Text(0, 0, 'United Kingdom'),\n",
              " Text(0, 0, 'Korea Republic of'),\n",
              " Text(0, 0, 'Germany'),\n",
              " Text(0, 0, 'France'),\n",
              " Text(0, 0, 'Canada'),\n",
              " Text(0, 0, 'Brazil'),\n",
              " Text(0, 0, 'Italy'),\n",
              " Text(0, 0, 'Australia'),\n",
              " Text(0, 0, 'Netherlands'),\n",
              " Text(0, 0, 'Russian Federation'),\n",
              " Text(0, 0, 'India'),\n",
              " Text(0, 0, 'Taiwan; Republic of China (ROC)'),\n",
              " Text(0, 0, 'Mexico'),\n",
              " Text(0, 0, 'Sweden'),\n",
              " Text(0, 0, 'Spain'),\n",
              " Text(0, 0, 'South Africa'),\n",
              " Text(0, 0, 'Switzerland')]"
            ]
          },
          "metadata": {
            "tags": []
          },
          "execution_count": 68
        },
        {
          "output_type": "display_data",
          "data": {
            "image/png": "[encoded data removed]",
            "text/plain": [
              "<Figure size 1440x576 with 1 Axes>"
            ]
          },
          "metadata": {
            "tags": [],
            "needs_background": "light"
          }
        }
      ]
    },
    {
      "cell_type": "markdown",
      "metadata": {
        "id": "wiwYuei63oUx",
        "colab_type": "text"
      },
      "source": [
        "#Bivariate Analysis"
      ]
    },
    {
      "cell_type": "code",
      "metadata": {
        "id": "OlDaQx650rnS",
        "colab_type": "code",
        "colab": {}
      },
      "source": [
        ""
      ],
      "execution_count": null,
      "outputs": []
    }
  ]
}